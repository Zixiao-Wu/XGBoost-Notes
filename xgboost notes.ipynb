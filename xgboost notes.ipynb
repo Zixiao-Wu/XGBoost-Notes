{
 "cells": [
  {
   "cell_type": "code",
   "execution_count": 1,
   "id": "aac84b70",
   "metadata": {},
   "outputs": [],
   "source": [
    "from sklearn.ensemble import GradientBoostingClassifier\n",
    "from sklearn.datasets import load_iris\n",
    "from sklearn.model_selection import train_test_split\n",
    "from sklearn.metrics import accuracy_score"
   ]
  },
  {
   "cell_type": "code",
   "execution_count": 2,
   "id": "49019627",
   "metadata": {},
   "outputs": [],
   "source": [
    "iris = load_iris()\n",
    "\n",
    "X = iris.data\n",
    "y = iris.target"
   ]
  },
  {
   "cell_type": "code",
   "execution_count": 13,
   "id": "cec239a1",
   "metadata": {},
   "outputs": [
    {
     "data": {
      "text/plain": [
       "150"
      ]
     },
     "execution_count": 13,
     "metadata": {},
     "output_type": "execute_result"
    }
   ],
   "source": [
    "(a, b) = X.shape\n",
    "a"
   ]
  },
  {
   "cell_type": "code",
   "execution_count": 5,
   "id": "33a5a6d6",
   "metadata": {},
   "outputs": [],
   "source": [
    "X_train, X_test, y_train, y_test = train_test_split(X, y, test_size=0.2, random_state=1)\n"
   ]
  },
  {
   "cell_type": "code",
   "execution_count": 6,
   "id": "72c9ff3f",
   "metadata": {},
   "outputs": [],
   "source": [
    "model = GradientBoostingClassifier(n_estimators=100, learning_rate= 0.2, max_depth=3, min_samples_leaf=1, \n",
    "                                   subsample= 0.7, random_state=1)"
   ]
  },
  {
   "cell_type": "code",
   "execution_count": 8,
   "id": "79d0b5ad",
   "metadata": {},
   "outputs": [
    {
     "name": "stdout",
     "output_type": "stream",
     "text": [
      "Accuracy: 0.97\n"
     ]
    }
   ],
   "source": [
    "\n",
    "model.fit(X_train, y_train)\n",
    "\n",
    "y_pred = model.predict(X_test)\n",
    "\n",
    "accuracy = accuracy_score(y_test, y_pred)\n",
    "print(\"Accuracy: {:.2f}\".format(accuracy))"
   ]
  },
  {
   "cell_type": "code",
   "execution_count": 9,
   "id": "ace8ba8d",
   "metadata": {},
   "outputs": [],
   "source": [
    "import numpy as np"
   ]
  },
  {
   "cell_type": "markdown",
   "id": "aa4a41c8",
   "metadata": {},
   "source": [
    "# 手搓一个"
   ]
  },
  {
   "cell_type": "code",
   "execution_count": 46,
   "id": "9295dc81",
   "metadata": {},
   "outputs": [],
   "source": [
    "from sklearn.tree import DecisionTreeRegressor\n",
    "\n",
    "class GBDT:\n",
    "    def __init__(self, n_estimators = 100, learning_rate = 0.3, max_depth = 3):\n",
    "        self.n_estimators = n_estimators\n",
    "        self.learning_rate = learning_rate\n",
    "        self.max_depth = max_depth\n",
    "        self.estimators = []\n",
    "        \n",
    "    def sigmoid(self, z):\n",
    "        return 1.0 / (1.0+np.exp(-z))\n",
    "    \n",
    "    def gradient_loss(self, y_true, y_pred):\n",
    "        return y_true - self.sigmoid(y_pred)\n",
    "    \n",
    "    def fit(self, X, y):\n",
    "        n_sample, n_feature = X.shape\n",
    "        y_pred = np.zeros(n_sample, dtype = float)\n",
    "        \n",
    "        for i in range(self.n_estimators):\n",
    "            residual = self.gradient_loss(y, y_pred)\n",
    "            #print(y, y, residual)\n",
    "            \n",
    "            tree = DecisionTreeRegressor(max_depth=self.max_depth)\n",
    "            tree.fit(X, residual)\n",
    "            \n",
    "            y_pred_tree = tree.predict(X)\n",
    "            \n",
    "            y_pred += self.learning_rate * y_pred_tree\n",
    "            \n",
    "            self.estimators.append(tree)\n",
    "            \n",
    "    def predict_proba(self, X):\n",
    "        n_samples = X.shape[0]\n",
    "        y_pred = np.zeros(n_samples)\n",
    "        \n",
    "        for tree in self.estimators:\n",
    "            y_pred_tree = tree.predict(X)\n",
    "            y_pred += self.learning_rate * y_pred_tree\n",
    "            return self.sigmoid(y_pred)\n",
    "    \n",
    "    def predict(self, X, threshold = 0.5):\n",
    "        y_proba = self.predict_proba(X)\n",
    "        y_pred = np.where(y_proba>= threshold, 1, 0)\n",
    "        \n",
    "        return y_pred"
   ]
  },
  {
   "cell_type": "code",
   "execution_count": 47,
   "id": "8217ed08",
   "metadata": {},
   "outputs": [],
   "source": [
    "gbclassfy = GBDT(n_estimators=100, learning_rate=0.2, max_depth=4)\n",
    "\n",
    "#from sklearn.preprocessing import LabelEncoder\n",
    "\n",
    "gbclassfy.fit(X_train, y_train)"
   ]
  },
  {
   "cell_type": "code",
   "execution_count": 48,
   "id": "50d21704",
   "metadata": {},
   "outputs": [
    {
     "data": {
      "text/plain": [
       "0.8"
      ]
     },
     "execution_count": 48,
     "metadata": {},
     "output_type": "execute_result"
    }
   ],
   "source": [
    "y_pred = gbclassfy.predict(X_test)\n",
    "\n",
    "accuracy = np.mean(y_pred == y_test)\n",
    "accuracy"
   ]
  },
  {
   "cell_type": "markdown",
   "id": "f9c67b9e",
   "metadata": {},
   "source": [
    "# XGBOOST を学びましょう!"
   ]
  },
  {
   "cell_type": "code",
   "execution_count": 49,
   "id": "8b5ddbd4",
   "metadata": {},
   "outputs": [
    {
     "name": "stdout",
     "output_type": "stream",
     "text": [
      "Collecting xgboost\n",
      "  Downloading xgboost-1.7.6-py3-none-macosx_10_15_x86_64.macosx_11_0_x86_64.macosx_12_0_x86_64.whl (1.8 MB)\n",
      "\u001b[2K     \u001b[90m━━━━━━━━━━━━━━━━━━━━━━━━━━━━━━━━━━━━━━━━\u001b[0m \u001b[32m1.8/1.8 MB\u001b[0m \u001b[31m16.4 MB/s\u001b[0m eta \u001b[36m0:00:00\u001b[0ma \u001b[36m0:00:01\u001b[0m\n",
      "\u001b[?25hRequirement already satisfied: scipy in /Users/wu/opt/anaconda3/lib/python3.9/site-packages (from xgboost) (1.9.1)\n",
      "Requirement already satisfied: numpy in /Users/wu/opt/anaconda3/lib/python3.9/site-packages (from xgboost) (1.21.5)\n",
      "Installing collected packages: xgboost\n",
      "Successfully installed xgboost-1.7.6\n",
      "Note: you may need to restart the kernel to use updated packages.\n"
     ]
    }
   ],
   "source": [
    "pip install xgboost"
   ]
  },
  {
   "cell_type": "code",
   "execution_count": 2,
   "id": "f37e3b8d",
   "metadata": {},
   "outputs": [],
   "source": [
    "import xgboost"
   ]
  },
  {
   "cell_type": "code",
   "execution_count": 6,
   "id": "2966ec34",
   "metadata": {},
   "outputs": [
    {
     "data": {
      "text/plain": [
       "<contextlib._GeneratorContextManager at 0x7f93d13ff2e0>"
      ]
     },
     "execution_count": 6,
     "metadata": {},
     "output_type": "execute_result"
    }
   ],
   "source": [
    "xgboost.config_context()"
   ]
  },
  {
   "cell_type": "code",
   "execution_count": 10,
   "id": "f289e782",
   "metadata": {},
   "outputs": [
    {
     "data": {
      "text/plain": [
       "{'objective': 'binary:logistic',\n",
       " 'use_label_encoder': None,\n",
       " 'base_score': None,\n",
       " 'booster': None,\n",
       " 'callbacks': None,\n",
       " 'colsample_bylevel': None,\n",
       " 'colsample_bynode': None,\n",
       " 'colsample_bytree': None,\n",
       " 'early_stopping_rounds': None,\n",
       " 'enable_categorical': False,\n",
       " 'eval_metric': None,\n",
       " 'feature_types': None,\n",
       " 'gamma': None,\n",
       " 'gpu_id': None,\n",
       " 'grow_policy': None,\n",
       " 'importance_type': None,\n",
       " 'interaction_constraints': None,\n",
       " 'learning_rate': None,\n",
       " 'max_bin': None,\n",
       " 'max_cat_threshold': None,\n",
       " 'max_cat_to_onehot': None,\n",
       " 'max_delta_step': None,\n",
       " 'max_depth': None,\n",
       " 'max_leaves': None,\n",
       " 'min_child_weight': None,\n",
       " 'missing': nan,\n",
       " 'monotone_constraints': None,\n",
       " 'n_estimators': 100,\n",
       " 'n_jobs': None,\n",
       " 'num_parallel_tree': None,\n",
       " 'predictor': None,\n",
       " 'random_state': None,\n",
       " 'reg_alpha': None,\n",
       " 'reg_lambda': None,\n",
       " 'sampling_method': None,\n",
       " 'scale_pos_weight': None,\n",
       " 'subsample': None,\n",
       " 'tree_method': None,\n",
       " 'validate_parameters': None,\n",
       " 'verbosity': None}"
      ]
     },
     "execution_count": 10,
     "metadata": {},
     "output_type": "execute_result"
    }
   ],
   "source": [
    "model_eg = xgboost.XGBClassifier()\n",
    "model_eg.get_params()"
   ]
  },
  {
   "cell_type": "markdown",
   "id": "d8a034a4",
   "metadata": {},
   "source": [
    "## example 1"
   ]
  },
  {
   "cell_type": "code",
   "execution_count": 11,
   "id": "7504daf0",
   "metadata": {},
   "outputs": [],
   "source": [
    "from sklearn.model_selection import train_test_split\n",
    "from sklearn.metrics import roc_auc_score\n",
    "from sklearn.datasets import load_breast_cancer"
   ]
  },
  {
   "cell_type": "code",
   "execution_count": 12,
   "id": "32f1a30c",
   "metadata": {},
   "outputs": [],
   "source": [
    "cancer = load_breast_cancer()\n",
    "\n",
    "X = cancer.data\n",
    "y = cancer.target"
   ]
  },
  {
   "cell_type": "code",
   "execution_count": 13,
   "id": "b013b1c2",
   "metadata": {},
   "outputs": [],
   "source": [
    "train_x, valid_x, train_y, valid_y = train_test_split(X, y, test_size=0.3, random_state=114514)"
   ]
  },
  {
   "cell_type": "code",
   "execution_count": 14,
   "id": "a53c1900",
   "metadata": {},
   "outputs": [],
   "source": [
    "xlf = xgboost.XGBClassifier(max_depth =10, learning_rate = 0.2, n_estimator = 500, objective='binary:logistic',\n",
    "                           nthread = -1, gamma = 0, nim_child_weight = 1, max_delta_step = 0, subsample = 0.8,\n",
    "                           colsample_bytree=0.7, colsample_bylevel=1, reg_alpha = 0, reg_lambda = 1, \n",
    "                            scale_pos_weight=1,seed=114514)"
   ]
  },
  {
   "cell_type": "code",
   "execution_count": 15,
   "id": "d0121d00",
   "metadata": {},
   "outputs": [
    {
     "name": "stdout",
     "output_type": "stream",
     "text": [
      "[23:17:37] WARNING: /Users/runner/work/xgboost/xgboost/python-package/build/temp.macosx-10.9-x86_64-cpython-38/xgboost/src/learner.cc:767: \n",
      "Parameters: { \"n_estimator\", \"nim_child_weight\" } are not used.\n",
      "\n",
      "[0]\tvalidation_0-error:0.05848\n",
      "[1]\tvalidation_0-error:0.06433\n",
      "[2]\tvalidation_0-error:0.05848\n",
      "[3]\tvalidation_0-error:0.05263\n",
      "[4]\tvalidation_0-error:0.04094\n",
      "[5]\tvalidation_0-error:0.02924\n",
      "[6]\tvalidation_0-error:0.03509\n",
      "[7]\tvalidation_0-error:0.03509\n",
      "[8]\tvalidation_0-error:0.04094\n",
      "[9]\tvalidation_0-error:0.04094\n",
      "[10]\tvalidation_0-error:0.04094\n",
      "[11]\tvalidation_0-error:0.04094\n",
      "[12]\tvalidation_0-error:0.03509\n",
      "[13]\tvalidation_0-error:0.03509\n",
      "[14]\tvalidation_0-error:0.03509\n",
      "[15]\tvalidation_0-error:0.03509\n",
      "[16]\tvalidation_0-error:0.03509\n",
      "[17]\tvalidation_0-error:0.02924\n",
      "[18]\tvalidation_0-error:0.03509\n",
      "[19]\tvalidation_0-error:0.02924\n",
      "[20]\tvalidation_0-error:0.03509\n",
      "[21]\tvalidation_0-error:0.03509\n",
      "[22]\tvalidation_0-error:0.03509\n",
      "[23]\tvalidation_0-error:0.02924\n",
      "[24]\tvalidation_0-error:0.03509\n",
      "[25]\tvalidation_0-error:0.03509\n",
      "[26]\tvalidation_0-error:0.02924\n",
      "[27]\tvalidation_0-error:0.03509\n",
      "[28]\tvalidation_0-error:0.03509\n",
      "[29]\tvalidation_0-error:0.03509\n",
      "[30]\tvalidation_0-error:0.03509\n",
      "[31]\tvalidation_0-error:0.03509\n",
      "[32]\tvalidation_0-error:0.03509\n",
      "[33]\tvalidation_0-error:0.03509\n",
      "[34]\tvalidation_0-error:0.03509\n"
     ]
    },
    {
     "name": "stderr",
     "output_type": "stream",
     "text": [
      "/Users/wu/opt/anaconda3/lib/python3.9/site-packages/xgboost/sklearn.py:835: UserWarning: `eval_metric` in `fit` method is deprecated for better compatibility with scikit-learn, use `eval_metric` in constructor or`set_params` instead.\n",
      "  warnings.warn(\n",
      "/Users/wu/opt/anaconda3/lib/python3.9/site-packages/xgboost/sklearn.py:835: UserWarning: `early_stopping_rounds` in `fit` method is deprecated for better compatibility with scikit-learn, use `early_stopping_rounds` in constructor or`set_params` instead.\n",
      "  warnings.warn(\n"
     ]
    },
    {
     "data": {
      "text/plain": [
       "XGBClassifier(base_score=None, booster=None, callbacks=None,\n",
       "              colsample_bylevel=1, colsample_bynode=None, colsample_bytree=0.7,\n",
       "              early_stopping_rounds=None, enable_categorical=False,\n",
       "              eval_metric=None, feature_types=None, gamma=0, gpu_id=None,\n",
       "              grow_policy=None, importance_type=None,\n",
       "              interaction_constraints=None, learning_rate=0.2, max_bin=None,\n",
       "              max_cat_threshold=None, max_cat_to_onehot=None, max_delta_step=0,\n",
       "              max_depth=10, max_leaves=None, min_child_weight=None, missing=nan,\n",
       "              monotone_constraints=None, n_estimator=500, n_estimators=100,\n",
       "              n_jobs=None, nim_child_weight=1, nthread=-1, ...)"
      ]
     },
     "execution_count": 15,
     "metadata": {},
     "output_type": "execute_result"
    }
   ],
   "source": [
    "xlf.fit(train_x, train_y, eval_metric='error', verbose=True, \n",
    "        eval_set=[(valid_x, valid_y)], early_stopping_rounds=30)"
   ]
  },
  {
   "cell_type": "code",
   "execution_count": 16,
   "id": "4349e796",
   "metadata": {},
   "outputs": [
    {
     "name": "stderr",
     "output_type": "stream",
     "text": [
      "/Users/wu/opt/anaconda3/lib/python3.9/site-packages/xgboost/core.py:122: UserWarning: ntree_limit is deprecated, use `iteration_range` or model slicing instead.\n",
      "  warnings.warn(\n"
     ]
    }
   ],
   "source": [
    "y_pred = xlf.predict(valid_x, ntree_limit=xlf.best_ntree_limit)\n",
    "auc_score = roc_auc_score(valid_y, y_pred)"
   ]
  },
  {
   "cell_type": "code",
   "execution_count": 17,
   "id": "10d88c4a",
   "metadata": {},
   "outputs": [
    {
     "data": {
      "text/plain": [
       "0.965990990990991"
      ]
     },
     "execution_count": 17,
     "metadata": {},
     "output_type": "execute_result"
    }
   ],
   "source": [
    "auc_score"
   ]
  },
  {
   "cell_type": "markdown",
   "id": "239b1c08",
   "metadata": {},
   "source": [
    "## example 2"
   ]
  },
  {
   "cell_type": "code",
   "execution_count": 18,
   "id": "390f0349",
   "metadata": {},
   "outputs": [],
   "source": [
    "import pandas as pd\n",
    "\n",
    "white_wine = pd.read_csv('winequality-white.csv', sep=';')\n",
    "red_wine = pd.read_csv('winequality-red.csv', sep=';')\n",
    "\n",
    "red_wine['wine_type'] = 'red'   # add a column for the type\n",
    "white_wine['wine_type'] = 'white'\n",
    "wines = pd.concat([red_wine, white_wine])\n",
    "wines['quality_label'] = wines['quality'].apply(lambda value: 'low' if value <= 5 else 'medium' if value <= 7 else 'high')\n",
    "wines = wines.sample(frac=1, random_state=42).reset_index(drop=True)"
   ]
  },
  {
   "cell_type": "code",
   "execution_count": 21,
   "id": "c1ba3692",
   "metadata": {},
   "outputs": [
    {
     "name": "stdout",
     "output_type": "stream",
     "text": [
      "Counter({'medium': 2737, 'low': 1666, 'high': 144}) Counter({'medium': 1178, 'low': 718, 'high': 54})\n",
      "Features: ['fixed acidity', 'volatile acidity', 'citric acid', 'residual sugar', 'chlorides', 'free sulfur dioxide', 'total sulfur dioxide', 'density', 'pH', 'sulphates', 'alcohol']\n"
     ]
    }
   ],
   "source": [
    "import numpy as np\n",
    "from collections import Counter\n",
    "\n",
    "wqp_features = wines.iloc[:,:-3]\n",
    "wqp_class_labels = np.array(wines['quality_label'])\n",
    "wqp_label_names = ['low', 'medium', 'high']\n",
    "wqp_feature_names = list(wqp_features.columns)\n",
    "wqp_train_X, wqp_test_X, wqp_train_y, wqp_test_y = train_test_split(wqp_features, wqp_class_labels, \n",
    "                                                                    test_size=0.3, random_state=42)\n",
    "\n",
    "print(Counter(wqp_train_y), Counter(wqp_test_y))\n",
    "print('Features:', wqp_feature_names)"
   ]
  },
  {
   "cell_type": "code",
   "execution_count": 22,
   "id": "d994787d",
   "metadata": {},
   "outputs": [],
   "source": [
    "from sklearn.preprocessing import StandardScaler\n",
    "\n",
    "wqp_ss = StandardScaler().fit(wqp_train_X)\n",
    "\n",
    "# Scale the train set\n",
    "wqp_train_SX = wqp_ss.transform(wqp_train_X)\n",
    "\n",
    "# Scale the test set\n",
    "wqp_test_SX = wqp_ss.transform(wqp_test_X)"
   ]
  },
  {
   "cell_type": "code",
   "execution_count": 26,
   "id": "7df11d81",
   "metadata": {},
   "outputs": [
    {
     "data": {
      "text/plain": [
       "array(['medium', 'low', 'low', ..., 'medium', 'medium', 'medium'],\n",
       "      dtype=object)"
      ]
     },
     "execution_count": 26,
     "metadata": {},
     "output_type": "execute_result"
    }
   ],
   "source": [
    "wqp_train_y"
   ]
  },
  {
   "cell_type": "code",
   "execution_count": 28,
   "id": "34170cad",
   "metadata": {},
   "outputs": [],
   "source": [
    "from sklearn.preprocessing import LabelEncoder\n",
    "\n",
    "Encoder =  LabelEncoder()\n",
    "\n",
    "y_train = Encoder.fit_transform(wqp_train_y)\n",
    "\n",
    "y_test = Encoder.transform(wqp_test_y)"
   ]
  },
  {
   "cell_type": "code",
   "execution_count": 29,
   "id": "129f43ab",
   "metadata": {},
   "outputs": [
    {
     "data": {
      "text/plain": [
       "XGBClassifier(base_score=None, booster=None, callbacks=None,\n",
       "              colsample_bylevel=None, colsample_bynode=None,\n",
       "              colsample_bytree=None, early_stopping_rounds=None,\n",
       "              enable_categorical=False, eval_metric=None, feature_types=None,\n",
       "              gamma=None, gpu_id=None, grow_policy=None, importance_type=None,\n",
       "              interaction_constraints=None, learning_rate=None, max_bin=None,\n",
       "              max_cat_threshold=None, max_cat_to_onehot=None,\n",
       "              max_delta_step=None, max_depth=None, max_leaves=None,\n",
       "              min_child_weight=None, missing=nan, monotone_constraints=None,\n",
       "              n_estimators=100, n_jobs=None, num_class=3,\n",
       "              num_parallel_tree=None, objective='multi:softmax', ...)"
      ]
     },
     "execution_count": 29,
     "metadata": {},
     "output_type": "execute_result"
    }
   ],
   "source": [
    "winexgb = xgboost.XGBClassifier(objective= 'multi:softmax', num_class = 3)\n",
    "\n",
    "winexgb.fit(wqp_train_SX, y_train)"
   ]
  },
  {
   "cell_type": "code",
   "execution_count": 31,
   "id": "c0ffbf41",
   "metadata": {},
   "outputs": [
    {
     "name": "stdout",
     "output_type": "stream",
     "text": [
      "0.7974358974358975\n"
     ]
    }
   ],
   "source": [
    "predictions = winexgb.predict(wqp_test_SX)\n",
    "\n",
    "print(np.mean(predictions == y_test))"
   ]
  },
  {
   "cell_type": "code",
   "execution_count": 33,
   "id": "fda80ef0",
   "metadata": {},
   "outputs": [
    {
     "name": "stdout",
     "output_type": "stream",
     "text": [
      "{'learning_rate': 0.3, 'max_depth': 10, 'n_estimators': 250}\n",
      "代码运行时间： 301.1964690685272 秒\n"
     ]
    }
   ],
   "source": [
    "import time\n",
    "from sklearn.model_selection import GridSearchCV\n",
    "\n",
    "start_time = time.time()\n",
    "\n",
    "param_grid = {\n",
    "                'n_estimators': [500, 250, 750], \n",
    "                'max_depth': [5, 10],\n",
    "                'learning_rate': [0.3, 0.4]\n",
    "              }\n",
    "\n",
    "wine_clf = GridSearchCV(xgboost.XGBClassifier(objective= 'multi:softmax', num_class = 3, seed=42), param_grid, \n",
    "                       cv=10, scoring='accuracy')\n",
    "\n",
    "wine_clf.fit(wqp_train_SX, y_train)\n",
    "\n",
    "end_time = time.time()\n",
    "\n",
    "print(wine_clf.best_params_)\n",
    "elapsed_time = end_time - start_time\n",
    "print(\"代码运行时间：\", elapsed_time, \"秒\")"
   ]
  },
  {
   "cell_type": "code",
   "execution_count": 35,
   "id": "06ced877",
   "metadata": {},
   "outputs": [
    {
     "name": "stdout",
     "output_type": "stream",
     "text": [
      "{'learning_rate': 0.3, 'max_depth': 5, 'n_estimators': 500} 0.7818 0.021\n",
      "{'learning_rate': 0.3, 'max_depth': 5, 'n_estimators': 250} 0.7869 0.019\n",
      "{'learning_rate': 0.3, 'max_depth': 5, 'n_estimators': 750} 0.7779 0.0182\n",
      "{'learning_rate': 0.3, 'max_depth': 10, 'n_estimators': 500} 0.7867 0.0145\n",
      "{'learning_rate': 0.3, 'max_depth': 10, 'n_estimators': 250} 0.7893 0.0165\n",
      "{'learning_rate': 0.3, 'max_depth': 10, 'n_estimators': 750} 0.7867 0.0129\n",
      "{'learning_rate': 0.4, 'max_depth': 5, 'n_estimators': 500} 0.782 0.0196\n",
      "{'learning_rate': 0.4, 'max_depth': 5, 'n_estimators': 250} 0.7812 0.016\n",
      "{'learning_rate': 0.4, 'max_depth': 5, 'n_estimators': 750} 0.7794 0.0204\n",
      "{'learning_rate': 0.4, 'max_depth': 10, 'n_estimators': 500} 0.7891 0.0126\n",
      "{'learning_rate': 0.4, 'max_depth': 10, 'n_estimators': 250} 0.7891 0.0096\n",
      "{'learning_rate': 0.4, 'max_depth': 10, 'n_estimators': 750} 0.7875 0.0125\n"
     ]
    }
   ],
   "source": [
    "results = wine_clf.cv_results_\n",
    "\n",
    "for param, score_mean, score_sd in zip(results['params'], results['mean_test_score'], results['std_test_score']):\n",
    "    print(param, round(score_mean, 4), round(score_sd, 4))"
   ]
  },
  {
   "cell_type": "code",
   "execution_count": null,
   "id": "a5378a8e",
   "metadata": {},
   "outputs": [],
   "source": []
  }
 ],
 "metadata": {
  "kernelspec": {
   "display_name": "Python 3 (ipykernel)",
   "language": "python",
   "name": "python3"
  },
  "language_info": {
   "codemirror_mode": {
    "name": "ipython",
    "version": 3
   },
   "file_extension": ".py",
   "mimetype": "text/x-python",
   "name": "python",
   "nbconvert_exporter": "python",
   "pygments_lexer": "ipython3",
   "version": "3.9.13"
  }
 },
 "nbformat": 4,
 "nbformat_minor": 5
}
